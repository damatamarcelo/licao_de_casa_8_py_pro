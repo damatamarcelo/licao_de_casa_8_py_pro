{
 "cells": [
  {
   "cell_type": "code",
   "execution_count": 1,
   "metadata": {},
   "outputs": [],
   "source": [
    "from troposphere import Ref, Template, ec2\n",
    "from pprint import pprint"
   ]
  },
  {
   "cell_type": "code",
   "execution_count": 3,
   "metadata": {},
   "outputs": [
    {
     "data": {
      "text/plain": [
       "<troposphere.ec2.Instance at 0x7f7b76784910>"
      ]
     },
     "execution_count": 3,
     "metadata": {},
     "output_type": "execute_result"
    }
   ],
   "source": [
    "template = Template()\n",
    "\n",
    "instancia = ec2.Instance(\n",
    "    \"projeto1pythonserver\",\n",
    "    ImageId=\"ami-052efd3df9dad4825\",\n",
    "    InstanceType=\"t2.micro\",\n",
    ")\n",
    "\n",
    "template.add_resource(instancia)"
   ]
  },
  {
   "cell_type": "code",
   "execution_count": 4,
   "metadata": {},
   "outputs": [
    {
     "name": "stdout",
     "output_type": "stream",
     "text": [
      "('Resources:\\n'\n",
      " '  projeto1pythonserver:\\n'\n",
      " '    Properties:\\n'\n",
      " '      ImageId: ami-052efd3df9dad4825\\n'\n",
      " '      InstanceType: t2.micro\\n'\n",
      " '    Type: AWS::EC2::Instance\\n')\n"
     ]
    }
   ],
   "source": [
    "pprint(template.to_yaml())"
   ]
  },
  {
   "cell_type": "code",
   "execution_count": 5,
   "metadata": {},
   "outputs": [
    {
     "data": {
      "text/plain": [
       "<troposphere.ec2.Instance at 0x7f7b8c183ac0>"
      ]
     },
     "execution_count": 5,
     "metadata": {},
     "output_type": "execute_result"
    }
   ],
   "source": [
    "template = Template()\n",
    "\n",
    "instancia_r = ec2.Instance(\n",
    "    \"projetoredpythonserver\",\n",
    "    ImageId=\"ami-06640050dc3f556bb\",\n",
    "    InstanceType=\"t2.micro\",\n",
    ")\n",
    "\n",
    "template.add_resource(instancia_r)"
   ]
  },
  {
   "cell_type": "code",
   "execution_count": 6,
   "metadata": {},
   "outputs": [
    {
     "name": "stdout",
     "output_type": "stream",
     "text": [
      "('Resources:\\n'\n",
      " '  projetoredpythonserver:\\n'\n",
      " '    Properties:\\n'\n",
      " '      ImageId: ami-06640050dc3f556bb\\n'\n",
      " '      InstanceType: t2.micro\\n'\n",
      " '    Type: AWS::EC2::Instance\\n')\n"
     ]
    }
   ],
   "source": [
    "pprint(template.to_yaml())"
   ]
  },
  {
   "cell_type": "code",
   "execution_count": 7,
   "metadata": {},
   "outputs": [
    {
     "data": {
      "text/plain": [
       "<troposphere.ec2.Instance at 0x7f7b76655420>"
      ]
     },
     "execution_count": 7,
     "metadata": {},
     "output_type": "execute_result"
    }
   ],
   "source": [
    "template = Template()\n",
    "\n",
    "instancia_d = ec2.Instance(\n",
    "    \"projetodebpythonserver\",\n",
    "    ImageId=\"ami-09a41e26df464c548\",\n",
    "    InstanceType=\"t2.micro\",\n",
    ")\n",
    "\n",
    "template.add_resource(instancia_d)"
   ]
  },
  {
   "cell_type": "code",
   "execution_count": 8,
   "metadata": {},
   "outputs": [
    {
     "name": "stdout",
     "output_type": "stream",
     "text": [
      "('Resources:\\n'\n",
      " '  projetodebpythonserver:\\n'\n",
      " '    Properties:\\n'\n",
      " '      ImageId: ami-09a41e26df464c548\\n'\n",
      " '      InstanceType: t2.micro\\n'\n",
      " '    Type: AWS::EC2::Instance\\n')\n"
     ]
    }
   ],
   "source": [
    "pprint(template.to_yaml())"
   ]
  },
  {
   "cell_type": "code",
   "execution_count": null,
   "metadata": {},
   "outputs": [],
   "source": []
  }
 ],
 "metadata": {
  "kernelspec": {
   "display_name": "Python 3.10.4 ('venv': venv)",
   "language": "python",
   "name": "python3"
  },
  "language_info": {
   "codemirror_mode": {
    "name": "ipython",
    "version": 3
   },
   "file_extension": ".py",
   "mimetype": "text/x-python",
   "name": "python",
   "nbconvert_exporter": "python",
   "pygments_lexer": "ipython3",
   "version": "3.10.4"
  },
  "orig_nbformat": 4,
  "vscode": {
   "interpreter": {
    "hash": "c555aa2de470f62df991289af79df431070f36ba45ef58d3f4a0d78ec43619fe"
   }
  }
 },
 "nbformat": 4,
 "nbformat_minor": 2
}
